{
 "cells": [
  {
   "cell_type": "code",
   "execution_count": 1,
   "metadata": {},
   "outputs": [],
   "source": [
    "import json\n",
    "import torch\n",
    "from transformers import BertTokenizer, BertModel\n",
    "\n",
    "# Load pre-trained BERT model and tokenizer\n",
    "tokenizer = BertTokenizer.from_pretrained('bert-base-uncased')\n",
    "model = BertModel.from_pretrained('bert-base-uncased')\n",
    "\n",
    "# Function to create BERT embedding for a given text\n",
    "def create_bert_embedding(text):\n",
    "    inputs = tokenizer(text, return_tensors='pt', truncation=True, max_length=512)\n",
    "    with torch.no_grad():\n",
    "        outputs = model(**inputs)\n",
    "    # Use the embeddings from the last hidden state\n",
    "    last_hidden_state = outputs.last_hidden_state\n",
    "    # Average the token embeddings to get a single embedding for the text\n",
    "    embedding = torch.mean(last_hidden_state, dim=1).squeeze()\n",
    "    return embedding.tolist()\n",
    "\n",
    "# Load the JSON file\n",
    "with open('tactics.json', 'r', encoding='utf-8') as json_file:\n",
    "    data = json.load(json_file)\n",
    "\n",
    "# Create nodes from the provided input structure\n",
    "nodes = []\n",
    "for item in data:\n",
    "    embedding = create_bert_embedding(item['Description'])\n",
    "    node = {\n",
    "        \"id\": item['ID'],\n",
    "        \"type\": \"TACTIC\",\n",
    "        \"features\": {\n",
    "            \"name\": item['Name'],\n",
    "            \"description_embedding\": embedding\n",
    "        }\n",
    "    }\n",
    "    nodes.append(node)\n",
    "\n",
    "# Write the updated JSON to a file\n",
    "with open('output_with_embeddings.json', 'w', encoding='utf-8') as json_file:\n",
    "    json.dump({\"nodes\": nodes}, json_file, indent=4)\n"
   ]
  },
  {
   "cell_type": "code",
   "execution_count": null,
   "metadata": {},
   "outputs": [],
   "source": []
  }
 ],
 "metadata": {
  "kernelspec": {
   "display_name": "Python 3",
   "language": "python",
   "name": "python3"
  },
  "language_info": {
   "codemirror_mode": {
    "name": "ipython",
    "version": 3
   },
   "file_extension": ".py",
   "mimetype": "text/x-python",
   "name": "python",
   "nbconvert_exporter": "python",
   "pygments_lexer": "ipython3",
   "version": "3.11.9"
  }
 },
 "nbformat": 4,
 "nbformat_minor": 2
}
